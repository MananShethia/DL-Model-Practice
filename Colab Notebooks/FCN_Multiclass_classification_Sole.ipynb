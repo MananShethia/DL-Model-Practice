{
  "nbformat": 4,
  "nbformat_minor": 0,
  "metadata": {
    "colab": {
      "provenance": []
    },
    "kernelspec": {
      "name": "python3",
      "display_name": "Python 3"
    },
    "language_info": {
      "name": "python"
    }
  },
  "cells": [
    {
      "cell_type": "code",
      "execution_count": null,
      "metadata": {
        "id": "JIVBQavtwiwq"
      },
      "outputs": [],
      "source": [
        "import random\n",
        "import numpy as np\n",
        "import matplotlib.pyplot as plt\n",
        "import matplotlib.image as mpimg\n",
        "from keras.models import Sequential\n",
        "from keras.layers import BatchNormalization # a normalization technique done between the layers of a Neural Network instead of in the raw data. It is done along mini-batches \n",
        "                                            # instead of the full data set. It serves to speed up training and use higher learning rates, making learning easier\n",
        "from keras.preprocessing.image import ImageDataGenerator\n",
        "from keras.layers import Conv2D, MaxPooling2D, Dense, Flatten\n",
        "from keras.datasets import cifar10\n",
        "from keras.utils import normalize, to_categorical"
      ]
    },
    {
      "cell_type": "code",
      "source": [
        "(X_train, y_train), (X_test, y_test) = cifar10.load_data()"
      ],
      "metadata": {
        "id": "TRnS15ZtwwRl"
      },
      "execution_count": null,
      "outputs": []
    },
    {
      "cell_type": "code",
      "source": [
        "# normalizing data set : it is the organization of data to appear similar across all records and fields\n",
        "\n",
        "X_train = normalize(X_train, axis=1)\n",
        "X_test = normalize(X_test, axis=1)"
      ],
      "metadata": {
        "id": "6nnoQeDJwwT0"
      },
      "execution_count": null,
      "outputs": []
    },
    {
      "cell_type": "code",
      "source": [
        "# categorize training dataset : tf your training data uses classes as numbers, to_categorical will transform those numbers in proper vectors for using with models\n",
        "\n",
        "y_train = to_categorical(y_train)\n",
        "y_test = to_categorical(y_test)"
      ],
      "metadata": {
        "id": "TsjTmFjkwwWn"
      },
      "execution_count": null,
      "outputs": []
    },
    {
      "cell_type": "code",
      "source": [
        "# image augmentation\n",
        "\n",
        "train_datagen = ImageDataGenerator(rotation_range=45, width_shift_range=0.2, zoom_range = 0.2, horizontal_flip = True)\n",
        "train_datagen.fit(X_train)\n",
        "\n",
        "train_generator = train_datagen.flow(X_train, y_train, batch_size = 32)"
      ],
      "metadata": {
        "id": "3XbGuDV0wwZF"
      },
      "execution_count": null,
      "outputs": []
    },
    {
      "cell_type": "code",
      "source": [
        "# building model\n",
        "\n",
        "# kernel_initializer : the main purpose is to initialize the weight matrix in the neural network\n",
        "# he_uniform : Draws samples from a uniform distribution within [-limit, limit] , where limit = sqrt(6 / fan_in) ( fan_in is the number of input units in the weight tensor)\n",
        "\n",
        "# padding : \"same\" results in padding with zeros evenly to the left/right or up/down of the input.\n",
        "model = Sequential()\n",
        "\n",
        "model.add(Conv2D(32, (3, 3), activation='relu', kernel_initializer='he_uniform', padding='same', input_shape=(32, 32, 3)))\n",
        "model.add(BatchNormalization())\n",
        "\n",
        "model.add(Conv2D(32, (3, 3), activation='relu', kernel_initializer='he_uniform', padding='same'))\n",
        "model.add(BatchNormalization())\n",
        "model.add(MaxPooling2D((2, 2)))\n",
        "\n",
        "model.add(Conv2D(64, (3, 3), activation='relu', kernel_initializer='he_uniform', padding='same'))\n",
        "model.add(BatchNormalization())\n",
        "\n",
        "model.add(Conv2D(64, (3, 3), activation='relu', kernel_initializer='he_uniform', padding='same'))\n",
        "model.add(BatchNormalization())\n",
        "model.add(MaxPooling2D((2, 2)))\n",
        "\n",
        "model.add(Conv2D(128, (3, 3), activation='relu', kernel_initializer='he_uniform', padding='same'))\n",
        "model.add(BatchNormalization())\n",
        "\n",
        "model.add(Conv2D(128, (3, 3), activation='relu', kernel_initializer='he_uniform', padding='same'))\n",
        "model.add(BatchNormalization())\n",
        "model.add(MaxPooling2D((2, 2)))\n",
        "\n",
        "model.add(Flatten())\n",
        "model.add(Dense(128, activation='relu', kernel_initializer='he_uniform'))\n",
        "model.add(BatchNormalization())\n",
        "model.add(Dense(10, activation='softmax'))"
      ],
      "metadata": {
        "id": "r0AC-T0kwwb1"
      },
      "execution_count": null,
      "outputs": []
    },
    {
      "cell_type": "code",
      "source": [
        "# compile model\n",
        "\n",
        "# from keras.optimizers import SGD\n",
        "# opt = SGD(lr=0.001, momentum=0.9)\n",
        "# model.compile(optimizer=opt, loss='categorical_crossentropy', metrics=['accuracy'])\n",
        "model.compile(loss = 'binary_crossentropy', optimizer = 'adam', metrics = ['accuracy'])\n",
        "model.summary()"
      ],
      "metadata": {
        "colab": {
          "base_uri": "https://localhost:8080/"
        },
        "id": "aTtODf2dwweH",
        "outputId": "f5a39c3c-9327-4414-b305-2e68cd36e177"
      },
      "execution_count": null,
      "outputs": [
        {
          "output_type": "stream",
          "name": "stdout",
          "text": [
            "Model: \"sequential_1\"\n",
            "_________________________________________________________________\n",
            " Layer (type)                Output Shape              Param #   \n",
            "=================================================================\n",
            " conv2d_6 (Conv2D)           (None, 32, 32, 32)        896       \n",
            "                                                                 \n",
            " batch_normalization_7 (Batc  (None, 32, 32, 32)       128       \n",
            " hNormalization)                                                 \n",
            "                                                                 \n",
            " conv2d_7 (Conv2D)           (None, 32, 32, 32)        9248      \n",
            "                                                                 \n",
            " batch_normalization_8 (Batc  (None, 32, 32, 32)       128       \n",
            " hNormalization)                                                 \n",
            "                                                                 \n",
            " max_pooling2d_3 (MaxPooling  (None, 16, 16, 32)       0         \n",
            " 2D)                                                             \n",
            "                                                                 \n",
            " conv2d_8 (Conv2D)           (None, 16, 16, 64)        18496     \n",
            "                                                                 \n",
            " batch_normalization_9 (Batc  (None, 16, 16, 64)       256       \n",
            " hNormalization)                                                 \n",
            "                                                                 \n",
            " conv2d_9 (Conv2D)           (None, 16, 16, 64)        36928     \n",
            "                                                                 \n",
            " batch_normalization_10 (Bat  (None, 16, 16, 64)       256       \n",
            " chNormalization)                                                \n",
            "                                                                 \n",
            " max_pooling2d_4 (MaxPooling  (None, 8, 8, 64)         0         \n",
            " 2D)                                                             \n",
            "                                                                 \n",
            " conv2d_10 (Conv2D)          (None, 8, 8, 128)         73856     \n",
            "                                                                 \n",
            " batch_normalization_11 (Bat  (None, 8, 8, 128)        512       \n",
            " chNormalization)                                                \n",
            "                                                                 \n",
            " conv2d_11 (Conv2D)          (None, 8, 8, 128)         147584    \n",
            "                                                                 \n",
            " batch_normalization_12 (Bat  (None, 8, 8, 128)        512       \n",
            " chNormalization)                                                \n",
            "                                                                 \n",
            " max_pooling2d_5 (MaxPooling  (None, 4, 4, 128)        0         \n",
            " 2D)                                                             \n",
            "                                                                 \n",
            " flatten_1 (Flatten)         (None, 2048)              0         \n",
            "                                                                 \n",
            " dense_2 (Dense)             (None, 128)               262272    \n",
            "                                                                 \n",
            " batch_normalization_13 (Bat  (None, 128)              512       \n",
            " chNormalization)                                                \n",
            "                                                                 \n",
            " dense_3 (Dense)             (None, 10)                1290      \n",
            "                                                                 \n",
            "=================================================================\n",
            "Total params: 552,874\n",
            "Trainable params: 551,722\n",
            "Non-trainable params: 1,152\n",
            "_________________________________________________________________\n"
          ]
        }
      ]
    },
    {
      "cell_type": "code",
      "source": [
        "# train with input data\n",
        "\n",
        "history = model.fit_generator(train_generator, epochs = 10, validation_data = (X_test, y_test))"
      ],
      "metadata": {
        "colab": {
          "base_uri": "https://localhost:8080/"
        },
        "id": "XvOQWBtUwwgt",
        "outputId": "a69d9838-87ee-43fc-b290-a3e29f4d6822"
      },
      "execution_count": null,
      "outputs": [
        {
          "output_type": "stream",
          "name": "stderr",
          "text": [
            "<ipython-input-52-fae3249b5ef8>:3: UserWarning: `Model.fit_generator` is deprecated and will be removed in a future version. Please use `Model.fit`, which supports generators.\n",
            "  history = model.fit_generator(train_generator, epochs = 10, validation_data = (X_test, y_test))\n"
          ]
        },
        {
          "output_type": "stream",
          "name": "stdout",
          "text": [
            "Epoch 1/10\n",
            "1563/1563 [==============================] - 485s 309ms/step - loss: 0.2664 - accuracy: 0.4358 - val_loss: 0.2248 - val_accuracy: 0.4974\n",
            "Epoch 2/10\n",
            "1563/1563 [==============================] - 477s 305ms/step - loss: 0.1948 - accuracy: 0.5658 - val_loss: 0.1800 - val_accuracy: 0.6070\n",
            "Epoch 3/10\n",
            "1563/1563 [==============================] - 477s 305ms/step - loss: 0.1728 - accuracy: 0.6276 - val_loss: 0.1580 - val_accuracy: 0.6604\n",
            "Epoch 4/10\n",
            "1563/1563 [==============================] - 474s 303ms/step - loss: 0.1584 - accuracy: 0.6623 - val_loss: 0.1496 - val_accuracy: 0.6876\n",
            "Epoch 5/10\n",
            "1563/1563 [==============================] - 474s 304ms/step - loss: 0.1498 - accuracy: 0.6828 - val_loss: 0.1564 - val_accuracy: 0.6757\n",
            "Epoch 6/10\n",
            "1563/1563 [==============================] - 473s 303ms/step - loss: 0.1412 - accuracy: 0.7042 - val_loss: 0.1473 - val_accuracy: 0.6992\n",
            "Epoch 7/10\n",
            "1563/1563 [==============================] - 470s 300ms/step - loss: 0.1354 - accuracy: 0.7187 - val_loss: 0.1220 - val_accuracy: 0.7482\n",
            "Epoch 8/10\n",
            "1563/1563 [==============================] - 470s 300ms/step - loss: 0.1308 - accuracy: 0.7277 - val_loss: 0.1471 - val_accuracy: 0.7022\n",
            "Epoch 9/10\n",
            "1563/1563 [==============================] - 469s 300ms/step - loss: 0.1271 - accuracy: 0.7369 - val_loss: 0.1365 - val_accuracy: 0.7192\n",
            "Epoch 10/10\n",
            "1563/1563 [==============================] - 469s 300ms/step - loss: 0.1229 - accuracy: 0.7470 - val_loss: 0.1404 - val_accuracy: 0.7204\n"
          ]
        }
      ]
    },
    {
      "cell_type": "code",
      "source": [
        "# plot the training and validation accuracy and loss at each epoch\n",
        "\n",
        "loss = history.history['loss']\n",
        "val_loss = history.history['val_loss']\n",
        "epochs = range(1, len(loss) + 1)\n",
        "plt.plot(epochs, loss, 'y', label='Training loss')\n",
        "plt.plot(epochs, val_loss, 'r', label='Validation loss')\n",
        "plt.title('Training and validation loss')\n",
        "plt.xlabel('Epochs')\n",
        "plt.ylabel('Loss')\n",
        "plt.legend()\n",
        "plt.show()\n",
        "\n",
        "\n",
        "accuracy = history.history['accuracy']\n",
        "val_accuracy = history.history['val_accuracy']\n",
        "plt.plot(epochs, accuracy, 'y', label='Training accuracy')\n",
        "plt.plot(epochs, val_accuracy, 'r', label='Validation accuracy')\n",
        "plt.title('Training and validation accuracy')\n",
        "plt.xlabel('Epochs')\n",
        "plt.ylabel('Accuracy')\n",
        "plt.legend()\n",
        "plt.show()"
      ],
      "metadata": {
        "colab": {
          "base_uri": "https://localhost:8080/",
          "height": 573
        },
        "id": "gQ4KS_3nwwjN",
        "outputId": "0bc8d081-4cd0-4f3d-9328-1e768a80b3bb"
      },
      "execution_count": null,
      "outputs": [
        {
          "output_type": "display_data",
          "data": {
            "text/plain": [
              "<Figure size 432x288 with 1 Axes>"
            ],
            "image/png": "[encoded data removed]"
          },
          "metadata": {
            "needs_background": "light"
          }
        },
        {
          "output_type": "display_data",
          "data": {
            "text/plain": [
              "<Figure size 432x288 with 1 Axes>"
            ],
            "image/png": "[encoded data removed]"
          },
          "metadata": {
            "needs_background": "light"
          }
        }
      ]
    },
    {
      "cell_type": "code",
      "source": [],
      "metadata": {
        "id": "bZ4KwDZvwwlt"
      },
      "execution_count": null,
      "outputs": []
    },
    {
      "cell_type": "code",
      "source": [
        "# making prediction\n",
        "\n",
        "index = random.randint(0, len(X_test))\n",
        "plt.imshow(X_test[index, :])\n",
        "plt.show()\n",
        "\n",
        "y_pred = model.predict(X_test[index, :].reshape(1, 32, 32, 3))\n",
        "print('probability of image: ', y_pred)\n",
        "\n",
        "y_class = np.argmax(y_pred)\n",
        "print(y_class)\n",
        "\n",
        "# CLASSES\n",
        "# 0: airplane\n",
        "# 1: automobile\n",
        "# 2: bird\n",
        "# 3: cat\n",
        "# 4: deer\n",
        "# 5: dog\n",
        "# 6: frog\n",
        "# 7: horse\n",
        "# 8: ship\n",
        "# 9: truck"
      ],
      "metadata": {
        "colab": {
          "base_uri": "https://localhost:8080/",
          "height": 339
        },
        "id": "Pf5n1rLgGitJ",
        "outputId": "9291d812-0ca5-4fd1-9515-84e527532f28"
      },
      "execution_count": null,
      "outputs": [
        {
          "output_type": "display_data",
          "data": {
            "text/plain": [
              "<Figure size 432x288 with 1 Axes>"
            ],
            "image/png": "[encoded data removed]"
          },
          "metadata": {
            "needs_background": "light"
          }
        },
        {
          "output_type": "stream",
          "name": "stdout",
          "text": [
            "1/1 [==============================] - 0s 197ms/step\n",
            "probability of image:  [[1.5839061e-05 2.6513853e-03 7.0539038e-03 3.5161932e-04 1.9653072e-03\n",
            "  9.7939414e-01 1.1869144e-03 4.2796698e-03 3.6770824e-04 2.7335882e-03]]\n",
            "5\n"
          ]
        }
      ]
    },
    {
      "cell_type": "code",
      "source": [],
      "metadata": {
        "id": "lC3x3X8lGWdp"
      },
      "execution_count": null,
      "outputs": []
    }
  ]
}