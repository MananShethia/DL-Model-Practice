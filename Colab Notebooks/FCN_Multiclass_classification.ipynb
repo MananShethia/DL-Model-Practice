{
  "nbformat": 4,
  "nbformat_minor": 0,
  "metadata": {
    "colab": {
      "provenance": []
    },
    "kernelspec": {
      "name": "python3",
      "display_name": "Python 3"
    },
    "language_info": {
      "name": "python"
    }
  },
  "cells": [
    {
      "cell_type": "code",
      "execution_count": null,
      "metadata": {
        "id": "JIVBQavtwiwq"
      },
      "outputs": [],
      "source": [
        "import random\n",
        "import numpy as np\n",
        "import matplotlib.pyplot as plt\n",
        "import matplotlib.image as mpimg\n",
        "from keras.models import Sequential\n",
        "from keras.layers import BatchNormalization # a normalization technique done between the layers of a Neural Network instead of in the raw data. It is done along mini-batches \n",
        "                                            # instead of the full data set. It serves to speed up training and use higher learning rates, making learning easier\n",
        "from keras.preprocessing.image import ImageDataGenerator\n",
        "from keras.layers import Conv2D, MaxPooling2D, Dense, Flatten\n",
        "from keras.datasets import cifar10\n",
        "from keras.utils import normalize, to_categorical"
      ]
    },
    {
      "cell_type": "code",
      "source": [
        "(X_train, y_train), (X_test, y_test) = cifar10.load_data()"
      ],
      "metadata": {
        "id": "TRnS15ZtwwRl",
        "colab": {
          "base_uri": "https://localhost:8080/"
        },
        "outputId": "22dd9e38-4d10-487a-b9c6-2869e6b9d206"
      },
      "execution_count": null,
      "outputs": [
        {
          "output_type": "stream",
          "name": "stdout",
          "text": [
            "Downloading data from https://www.cs.toronto.edu/~kriz/cifar-10-python.tar.gz\n",
            "170498071/170498071 [==============================] - 4s 0us/step\n"
          ]
        }
      ]
    },
    {
      "cell_type": "code",
      "source": [
        "# normalizing data set : it is the organization of data to appear similar across all records and fields\n",
        "\n",
        "X_train = normalize(X_train, axis=1)\n",
        "X_test = normalize(X_test, axis=1)"
      ],
      "metadata": {
        "id": "6nnoQeDJwwT0"
      },
      "execution_count": null,
      "outputs": []
    },
    {
      "cell_type": "code",
      "source": [
        "# categorize training dataset : tf your training data uses classes as numbers, to_categorical will transform those numbers in proper vectors for using with models\n",
        "\n",
        "y_train = to_categorical(y_train)\n",
        "y_test = to_categorical(y_test)"
      ],
      "metadata": {
        "id": "TsjTmFjkwwWn"
      },
      "execution_count": null,
      "outputs": []
    },
    {
      "cell_type": "code",
      "source": [
        "# image augmentation\n",
        "\n",
        "train_datagen = ImageDataGenerator(rotation_range=45, width_shift_range=0.2, zoom_range = 0.2, horizontal_flip = True)\n",
        "train_datagen.fit(X_train)\n",
        "\n",
        "train_generator = train_datagen.flow(X_train, y_train, batch_size = 32)"
      ],
      "metadata": {
        "id": "3XbGuDV0wwZF"
      },
      "execution_count": null,
      "outputs": []
    },
    {
      "cell_type": "code",
      "source": [
        "# building model\n",
        "\n",
        "# kernel_initializer : the main purpose is to initialize the weight matrix in the neural network\n",
        "# he_uniform : Draws samples from a uniform distribution within [-limit, limit] , where limit = sqrt(6 / fan_in) ( fan_in is the number of input units in the weight tensor)\n",
        "\n",
        "# padding : \"same\" results in padding with zeros evenly to the left/right or up/down of the input.\n",
        "model = Sequential()\n",
        "\n",
        "model.add(Conv2D(32, (3, 3), activation='relu', kernel_initializer='he_uniform', padding='same', input_shape=(32, 32, 3)))\n",
        "model.add(BatchNormalization())\n",
        "\n",
        "model.add(Conv2D(32, (3, 3), activation='relu', kernel_initializer='he_uniform', padding='same'))\n",
        "model.add(BatchNormalization())\n",
        "model.add(MaxPooling2D((2, 2)))\n",
        "\n",
        "model.add(Conv2D(64, (3, 3), activation='relu', kernel_initializer='he_uniform', padding='same'))\n",
        "model.add(BatchNormalization())\n",
        "\n",
        "model.add(Conv2D(64, (3, 3), activation='relu', kernel_initializer='he_uniform', padding='same'))\n",
        "model.add(BatchNormalization())\n",
        "model.add(MaxPooling2D((2, 2)))\n",
        "\n",
        "model.add(Conv2D(128, (3, 3), activation='relu', kernel_initializer='he_uniform', padding='same'))\n",
        "model.add(BatchNormalization())\n",
        "\n",
        "model.add(Conv2D(128, (3, 3), activation='relu', kernel_initializer='he_uniform', padding='same'))\n",
        "model.add(BatchNormalization())\n",
        "model.add(MaxPooling2D((2, 2)))\n",
        "\n",
        "model.add(Flatten())\n",
        "model.add(Dense(128, activation='relu', kernel_initializer='he_uniform'))\n",
        "model.add(BatchNormalization())\n",
        "model.add(Dense(10, activation='softmax'))"
      ],
      "metadata": {
        "id": "r0AC-T0kwwb1"
      },
      "execution_count": null,
      "outputs": []
    },
    {
      "cell_type": "code",
      "source": [
        "# compile model\n",
        "\n",
        "model.compile(loss = 'binary_crossentropy', optimizer = 'adam', metrics = ['accuracy'])\n",
        "model.summary()"
      ],
      "metadata": {
        "colab": {
          "base_uri": "https://localhost:8080/"
        },
        "id": "aTtODf2dwweH",
        "outputId": "ae98921b-42b0-4fb5-e41e-bc5afb38ff26"
      },
      "execution_count": null,
      "outputs": [
        {
          "output_type": "stream",
          "name": "stdout",
          "text": [
            "Model: \"sequential\"\n",
            "_________________________________________________________________\n",
            " Layer (type)                Output Shape              Param #   \n",
            "=================================================================\n",
            " conv2d (Conv2D)             (None, 32, 32, 32)        896       \n",
            "                                                                 \n",
            " batch_normalization (BatchN  (None, 32, 32, 32)       128       \n",
            " ormalization)                                                   \n",
            "                                                                 \n",
            " conv2d_1 (Conv2D)           (None, 32, 32, 32)        9248      \n",
            "                                                                 \n",
            " batch_normalization_1 (Batc  (None, 32, 32, 32)       128       \n",
            " hNormalization)                                                 \n",
            "                                                                 \n",
            " max_pooling2d (MaxPooling2D  (None, 16, 16, 32)       0         \n",
            " )                                                               \n",
            "                                                                 \n",
            " conv2d_2 (Conv2D)           (None, 16, 16, 64)        18496     \n",
            "                                                                 \n",
            " batch_normalization_2 (Batc  (None, 16, 16, 64)       256       \n",
            " hNormalization)                                                 \n",
            "                                                                 \n",
            " conv2d_3 (Conv2D)           (None, 16, 16, 64)        36928     \n",
            "                                                                 \n",
            " batch_normalization_3 (Batc  (None, 16, 16, 64)       256       \n",
            " hNormalization)                                                 \n",
            "                                                                 \n",
            " max_pooling2d_1 (MaxPooling  (None, 8, 8, 64)         0         \n",
            " 2D)                                                             \n",
            "                                                                 \n",
            " conv2d_4 (Conv2D)           (None, 8, 8, 128)         73856     \n",
            "                                                                 \n",
            " batch_normalization_4 (Batc  (None, 8, 8, 128)        512       \n",
            " hNormalization)                                                 \n",
            "                                                                 \n",
            " conv2d_5 (Conv2D)           (None, 8, 8, 128)         147584    \n",
            "                                                                 \n",
            " batch_normalization_5 (Batc  (None, 8, 8, 128)        512       \n",
            " hNormalization)                                                 \n",
            "                                                                 \n",
            " max_pooling2d_2 (MaxPooling  (None, 4, 4, 128)        0         \n",
            " 2D)                                                             \n",
            "                                                                 \n",
            " flatten (Flatten)           (None, 2048)              0         \n",
            "                                                                 \n",
            " dense (Dense)               (None, 128)               262272    \n",
            "                                                                 \n",
            " batch_normalization_6 (Batc  (None, 128)              512       \n",
            " hNormalization)                                                 \n",
            "                                                                 \n",
            " dense_1 (Dense)             (None, 10)                1290      \n",
            "                                                                 \n",
            "=================================================================\n",
            "Total params: 552,874\n",
            "Trainable params: 551,722\n",
            "Non-trainable params: 1,152\n",
            "_________________________________________________________________\n"
          ]
        }
      ]
    },
    {
      "cell_type": "code",
      "source": [
        "# train with input data\n",
        "\n",
        "history = model.fit_generator(train_generator, epochs = 10, validation_data = (X_test, y_test))"
      ],
      "metadata": {
        "colab": {
          "base_uri": "https://localhost:8080/"
        },
        "id": "XvOQWBtUwwgt",
        "outputId": "fad0eea1-06b4-4aff-cf57-418a9dcbcfe1"
      },
      "execution_count": null,
      "outputs": [
        {
          "output_type": "stream",
          "name": "stderr",
          "text": [
            "<ipython-input-8-fae3249b5ef8>:3: UserWarning: `Model.fit_generator` is deprecated and will be removed in a future version. Please use `Model.fit`, which supports generators.\n",
            "  history = model.fit_generator(train_generator, epochs = 10, validation_data = (X_test, y_test))\n"
          ]
        },
        {
          "output_type": "stream",
          "name": "stdout",
          "text": [
            "Epoch 1/10\n",
            "1563/1563 [==============================] - 517s 328ms/step - loss: 0.2678 - accuracy: 0.4307 - val_loss: 0.2498 - val_accuracy: 0.5110\n",
            "Epoch 2/10\n",
            "1563/1563 [==============================] - 517s 331ms/step - loss: 0.1957 - accuracy: 0.5678 - val_loss: 0.1914 - val_accuracy: 0.5835\n",
            "Epoch 3/10\n",
            "1563/1563 [==============================] - 515s 329ms/step - loss: 0.1735 - accuracy: 0.6264 - val_loss: 0.1869 - val_accuracy: 0.5946\n",
            "Epoch 4/10\n",
            "1563/1563 [==============================] - 510s 327ms/step - loss: 0.1586 - accuracy: 0.6618 - val_loss: 0.1437 - val_accuracy: 0.7043\n",
            "Epoch 5/10\n",
            "1563/1563 [==============================] - 528s 338ms/step - loss: 0.1505 - accuracy: 0.6823 - val_loss: 0.1384 - val_accuracy: 0.7093\n",
            "Epoch 6/10\n",
            "1563/1563 [==============================] - 525s 336ms/step - loss: 0.1423 - accuracy: 0.7023 - val_loss: 0.1565 - val_accuracy: 0.6778\n",
            "Epoch 7/10\n",
            "1563/1563 [==============================] - 524s 336ms/step - loss: 0.1365 - accuracy: 0.7136 - val_loss: 0.1308 - val_accuracy: 0.7360\n",
            "Epoch 8/10\n",
            "1563/1563 [==============================] - 519s 332ms/step - loss: 0.1318 - accuracy: 0.7276 - val_loss: 0.1293 - val_accuracy: 0.7337\n",
            "Epoch 9/10\n",
            "1563/1563 [==============================] - 522s 334ms/step - loss: 0.1275 - accuracy: 0.7352 - val_loss: 0.1210 - val_accuracy: 0.7553\n",
            "Epoch 10/10\n",
            "1563/1563 [==============================] - 517s 331ms/step - loss: 0.1241 - accuracy: 0.7443 - val_loss: 0.1230 - val_accuracy: 0.7451\n"
          ]
        }
      ]
    },
    {
      "cell_type": "code",
      "source": [
        "# plot the training and validation accuracy and loss at each epoch\n",
        "\n",
        "loss = history.history['loss']\n",
        "val_loss = history.history['val_loss']\n",
        "epochs = range(1, len(loss) + 1)\n",
        "plt.plot(epochs, loss, 'y', label='Training loss')\n",
        "plt.plot(epochs, val_loss, 'r', label='Validation loss')\n",
        "plt.title('Training and validation loss')\n",
        "plt.xlabel('Epochs')\n",
        "plt.ylabel('Loss')\n",
        "plt.legend()\n",
        "plt.show()\n",
        "\n",
        "\n",
        "accuracy = history.history['accuracy']\n",
        "val_accuracy = history.history['val_accuracy']\n",
        "plt.plot(epochs, accuracy, 'y', label='Training accuracy')\n",
        "plt.plot(epochs, val_accuracy, 'r', label='Validation accuracy')\n",
        "plt.title('Training and validation accuracy')\n",
        "plt.xlabel('Epochs')\n",
        "plt.ylabel('Accuracy')\n",
        "plt.legend()\n",
        "plt.show()"
      ],
      "metadata": {
        "id": "gQ4KS_3nwwjN",
        "colab": {
          "base_uri": "https://localhost:8080/",
          "height": 573
        },
        "outputId": "7fe461ec-c906-4333-8a6c-b526312bbe53"
      },
      "execution_count": null,
      "outputs": [
        {
          "output_type": "display_data",
          "data": {
            "text/plain": [
              "<Figure size 432x288 with 1 Axes>"
            ],
            "image/png": "[encoded data removed]"
          },
          "metadata": {
            "needs_background": "light"
          }
        },
        {
          "output_type": "display_data",
          "data": {
            "text/plain": [
              "<Figure size 432x288 with 1 Axes>"
            ],
            "image/png": "[encoded data removed]"
          },
          "metadata": {
            "needs_background": "light"
          }
        }
      ]
    },
    {
      "cell_type": "code",
      "source": [],
      "metadata": {
        "id": "bZ4KwDZvwwlt"
      },
      "execution_count": null,
      "outputs": []
    },
    {
      "cell_type": "code",
      "source": [
        "# making prediction\n",
        "\n",
        "index = random.randint(0, len(X_test))\n",
        "plt.imshow(X_test[index, :])\n",
        "plt.show()\n",
        "\n",
        "y_pred = model.predict(X_test[index, :].reshape(1, 32, 32, 3))\n",
        "print('probability of image: ', y_pred)\n",
        "\n",
        "y_class = np.argmax(y_pred)\n",
        "print(y_class)\n",
        "\n",
        "# CLASSES\n",
        "# 0: airplane\n",
        "# 1: automobile\n",
        "# 2: bird\n",
        "# 3: cat\n",
        "# 4: deer\n",
        "# 5: dog\n",
        "# 6: frog\n",
        "# 7: horse\n",
        "# 8: ship\n",
        "# 9: truck"
      ],
      "metadata": {
        "colab": {
          "base_uri": "https://localhost:8080/",
          "height": 339
        },
        "id": "Pf5n1rLgGitJ",
        "outputId": "8718bf2b-727c-4b0a-ae51-e8ad610190b0"
      },
      "execution_count": null,
      "outputs": [
        {
          "output_type": "display_data",
          "data": {
            "text/plain": [
              "<Figure size 432x288 with 1 Axes>"
            ],
            "image/png": "[encoded data removed]"
          },
          "metadata": {
            "needs_background": "light"
          }
        },
        {
          "output_type": "stream",
          "name": "stdout",
          "text": [
            "1/1 [==============================] - 0s 280ms/step\n",
            "probability of image:  [[9.9938703e-01 6.3328820e-08 2.7056565e-05 5.5075296e-05 9.6629177e-05\n",
            "  3.1982621e-05 1.2017992e-04 3.2163175e-07 2.7812476e-04 3.4562188e-06]]\n",
            "0\n"
          ]
        }
      ]
    },
    {
      "cell_type": "code",
      "source": [],
      "metadata": {
        "id": "lC3x3X8lGWdp"
      },
      "execution_count": null,
      "outputs": []
    }
  ]
}