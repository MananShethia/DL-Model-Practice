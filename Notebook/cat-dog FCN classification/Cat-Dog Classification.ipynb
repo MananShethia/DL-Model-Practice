{
 "cells": [
  {
   "cell_type": "code",
   "execution_count": null,
   "metadata": {},
   "outputs": [],
   "source": [
    "# import the libraries\n",
    "\n",
    "import numpy as np\n",
    "import random\n",
    "import matplotlib.pyplot as plt # to display out image\n",
    "from keras.models import Sequential # importing sequential model\n",
    "from keras.layers import Conv2D, MaxPooling2D, Dense, Flatten # importing convolutional layers as Conv2D, MaxPooling2D, fully connected network as Dense, 2D to 1D by Flatten"
   ]
  },
  {
   "cell_type": "code",
   "execution_count": null,
   "metadata": {},
   "outputs": [],
   "source": [
    "# path for files\n",
    "\n",
    "xtrain = 'F:\\\\Deep learning\\\\classification\\\\Image Classification CNN Keras Dataset\\\\input.csv'\n",
    "ytrain = 'F:\\\\Deep learning\\\\classification\\\\Image Classification CNN Keras Dataset\\\\labels.csv'\n",
    "xtest = 'F:\\\\Deep learning\\\\classification\\\\Image Classification CNN Keras Dataset\\\\input_test.csv'\n",
    "ytest = 'F:\\\\Deep learning\\\\classification\\\\Image Classification CNN Keras Dataset\\\\labels_test.csv'"
   ]
  },
  {
   "cell_type": "code",
   "execution_count": null,
   "metadata": {},
   "outputs": [],
   "source": [
    "# load dataset\n",
    "\n",
    "X_train = np.loadtxt(xtrain, delimiter = ',')\n",
    "y_train = np.loadtxt(ytrain, delimiter = ',')\n",
    "X_test = np.loadtxt(xtest, delimiter = ',')\n",
    "y_test = np.loadtxt(ytest, delimiter = ',')"
   ]
  },
  {
   "cell_type": "code",
   "execution_count": null,
   "metadata": {},
   "outputs": [],
   "source": [
    "# shape of dataset\n",
    "\n",
    "print(\"Shape of X_train: \", X_train.shape)\n",
    "print(\"Shape of y_train: \", y_train.shape)\n",
    "print(\"Shape of X_test: \", X_test.shape)\n",
    "print(\"Shape of y_test: \", y_test.shape)"
   ]
  },
  {
   "cell_type": "code",
   "execution_count": null,
   "metadata": {},
   "outputs": [],
   "source": [
    "# resizing dataset\n",
    "\n",
    "X_train = X_train.reshape(len(X_train), 100, 100, 3)\n",
    "y_train = y_train.reshape(len(y_train), 1)\n",
    "X_test = X_test.reshape(len(X_test), 100, 100, 3)\n",
    "y_test = y_test.reshape(len(y_test), 1)\n",
    "\n",
    "# as values are in range of 0 to 255\n",
    "# but to train our model appropriately we need to rescale these values between 0 to 1\n",
    "\n",
    "X_train = X_train/255.0\n",
    "X_test = X_test/255.0"
   ]
  },
  {
   "cell_type": "code",
   "execution_count": null,
   "metadata": {},
   "outputs": [],
   "source": [
    "# shape of dataset after resizing\n",
    "\n",
    "print(\"Shape of X_train: \", X_train.shape)\n",
    "print(\"Shape of y_train: \", y_train.shape)\n",
    "print(\"Shape of X_test: \", X_test.shape)\n",
    "print(\"Shape of y_test: \", y_test.shape)"
   ]
  },
  {
   "cell_type": "code",
   "execution_count": null,
   "metadata": {},
   "outputs": [],
   "source": [
    "X_train[1, :]"
   ]
  },
  {
   "cell_type": "code",
   "execution_count": null,
   "metadata": {},
   "outputs": [],
   "source": []
  },
  {
   "cell_type": "code",
   "execution_count": null,
   "metadata": {},
   "outputs": [],
   "source": [
    "# displaying random image\n",
    "\n",
    "index = random.randint(0, len(X_train))\n",
    "plt.imshow(X_train[index, :])\n",
    "plt.show()"
   ]
  },
  {
   "cell_type": "code",
   "execution_count": null,
   "metadata": {},
   "outputs": [],
   "source": [
    "model = Sequential([\n",
    "    Conv2D(32, (3, 3), activation = 'relu', input_shape = (100, 100, 3)),\n",
    "    MaxPooling2D((2,2)),\n",
    "    \n",
    "    Conv2D(32, (3, 3), activation = 'relu'),\n",
    "    MaxPooling2D((2,2)),\n",
    "    \n",
    "    Flatten(),\n",
    "    Dense(64, activation = 'relu'),\n",
    "    Dense(1, activation = 'sigmoid')\n",
    "])"
   ]
  },
  {
   "cell_type": "code",
   "execution_count": null,
   "metadata": {},
   "outputs": [],
   "source": [
    "# model\n",
    "\n",
    "# Sequential model means that the layers are going to be stacked up in the sequence\n",
    "# first convolutional layer, than maxpooling layer, than another convolutional layer, than maxpooling layer, than we couple of fully connected layers and thats how out convoltional neural network made\n",
    "model = Sequential([\n",
    "    Conv2D(32, (3, 3), # first parameter of convolutional layer are the number of filters we want to use and second parameter is the size of the filter\n",
    "           activation = 'relu',\n",
    "    \n",
    "           # for the first layer always in keras we need to mention the input shape which means what kind of shape is this model expecting\n",
    "           input_shape = (100, 100, 3) # our model expecting 100x100x3 size image\n",
    "          ),# this is how we add our first layer\n",
    "    \n",
    "    #adding next layer which is maxpooling layer\n",
    "    MaxPooling2D((2,2)), # one parameter which is filter size\n",
    "    \n",
    "    # second convolutioanl layer\n",
    "    Conv2D(32, (3, 3), activation = 'relu'),\n",
    "    MaxPooling2D((2,2)),\n",
    "    \n",
    "    \n",
    "    Flatten(),\n",
    "    # now making fully connected layer using Dense()\n",
    "    Dense(64, activation = 'relu'), # first parameter is number of neurons we want to keep in first fully connected layer and second parameter is the activation function we are using\n",
    "    \n",
    "    # final fully connected layer which is our output layer\n",
    "    # output layer must have the same number of neurons as our output class but for binary classification we only need one output neuron\n",
    "    Dense(1, activation = 'sigmoid') # activation function is SIGMOID because it is a bianry classification\n",
    "])"
   ]
  },
  {
   "cell_type": "code",
   "execution_count": null,
   "metadata": {},
   "outputs": [],
   "source": [
    "# we can also make model by add individual layer separately as it is Sequential\n",
    "\n",
    "model = Sequential()\n",
    "\n",
    "model.add(Conv2D(32, (3, 3), activation = 'relu', input_shape = (100, 100, 3)))\n",
    "model.add(MaxPooling2D((2,2)))\n",
    "\n",
    "model.add(Conv2D(32, (3, 3), activation = 'relu'))\n",
    "model.add(MaxPooling2D((2,2)))\n",
    "\n",
    "model.add(Flatten())\n",
    "model.add(Dense(64, activation = 'relu'))\n",
    "model.add(Dense(1, activation = 'sigmoid'))"
   ]
  },
  {
   "cell_type": "code",
   "execution_count": null,
   "metadata": {},
   "outputs": [],
   "source": [
    "# now compile the model by adding the loss and the back propagation model\n",
    "# parameters are loss, optimizer and metrics\n",
    "model.compile(loss = 'binary_crossentropy', optimizer = 'adam', metrics = ['accuracy'])\n",
    "# 'binary_crossentropy' because we are implimenting binary classification\n",
    "# metrics indicate a metric on which we want to evaluate our model"
   ]
  },
  {
   "cell_type": "code",
   "execution_count": null,
   "metadata": {},
   "outputs": [],
   "source": [
    "# train with our input data\n",
    "\n",
    "model.fit(X_train, y_train, epochs = 5, batch_size = 64)\n",
    "# epochs = number of epochs for which we want to train our model"
   ]
  },
  {
   "cell_type": "code",
   "execution_count": null,
   "metadata": {},
   "outputs": [],
   "source": [
    "# evaluate the model on the test data set\n",
    "\n",
    "model.evaluate(X_test, y_test)"
   ]
  },
  {
   "cell_type": "code",
   "execution_count": null,
   "metadata": {},
   "outputs": [],
   "source": []
  },
  {
   "cell_type": "code",
   "execution_count": null,
   "metadata": {},
   "outputs": [],
   "source": [
    "# making prediction\n",
    "\n",
    "# index2 = random.randint(0, len(y_test))\n",
    "plt.imshow(X_test[1, :])\n",
    "# plt.show()\n",
    "\n",
    "y_pred = model.predict(X_test[11, :].reshape(1, 100, 100, 3))\n",
    "print('probability of image: ', y_pred)"
   ]
  },
  {
   "cell_type": "code",
   "execution_count": null,
   "metadata": {},
   "outputs": [],
   "source": [
    "y_pred = y_pred > 0.5\n",
    "if(y_pred == 0):\n",
    "    pred = 'dog'\n",
    "else:\n",
    "    pred = 'cat'\n",
    "\n",
    "print('According to model it is: ', pred)"
   ]
  },
  {
   "cell_type": "code",
   "execution_count": null,
   "metadata": {},
   "outputs": [],
   "source": []
  }
 ],
 "metadata": {
  "kernelspec": {
   "display_name": "Python 3 (ipykernel)",
   "language": "python",
   "name": "python3"
  },
  "language_info": {
   "codemirror_mode": {
    "name": "ipython",
    "version": 3
   },
   "file_extension": ".py",
   "mimetype": "text/x-python",
   "name": "python",
   "nbconvert_exporter": "python",
   "pygments_lexer": "ipython3",
   "version": "3.8.15"
  }
 },
 "nbformat": 4,
 "nbformat_minor": 4
}
